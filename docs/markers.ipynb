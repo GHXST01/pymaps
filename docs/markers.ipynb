{
 "cells": [
  {
   "cell_type": "code",
   "execution_count": null,
   "metadata": {},
   "outputs": [],
   "source": ["from IPython.display import HTML\n", "\n", "hide_me = ''\n", "\n", "HTML('''\n", "<style>\n", "    .container {\n", "        box-shadow: none !important;\n", "    }\n", "\n", "    .output_html {\n", "        shadow: none !important;\n", "        max-width: 100% !important;\n", "        padding: 0 !important;\n", "    }\n", "\n", "    .title1 {\n", "        color: #e74a49 !important;\n", "    }\n", "</style>\n", "\n", "<script async>\n", "code_show=true;\n", "function code_toggle() {\n", "  if (code_show) {\n", "    $('div.input').each(function(id) {\n", "      el = $(this).find('.cm-variable:first');\n", "      if (id == 0 || el.text() == 'hide_me') {\n", "        $(this).hide();\n", "      }\n", "    });\n", "    $('div.output_prompt').css('opacity', 0);\n", "  } else {\n", "    $('div.input').each(function(id) {\n", "      $(this).show();\n", "    });\n", "    $('div.output_prompt').css('opacity', 1);\n", "  }\n", "  code_show = !code_show\n", "}\n", "$( document ).ready(code_toggle);\n", "</script>\n", "<form action=\"javascript:code_toggle()\"><input style=\"opacity:0\" type=\"submit\" value=\"Click here to toggle on/off the raw code.\"></form>''')\n"]
  },
  {
   "cell_type": "markdown",
   "metadata": {
    "hideCode": false,
    "hidePrompt": false
   },
   "source": ["<div>\n", "  <a href=\"https://github.com/rafpyprog/pymaps/\" style=\"text-decoration: none\">\n", "  <img src=\"https://raw.githubusercontent.com/rafpyprog/pymaps/master/images/pymaps-logo-36x36.png\" style=\"margin:auto !important;text-align:center;\"/>\n", "  <strong><p style=\"margin:auto !important;text-align:center !important;padding:10px 10px 0px 10px !important;font-size:36px !important;color:#000000 !important;\">PyMaps</p></strong></a>\n", "  <p style=\"font-size:24px;text-align:center;color:#e74a49;padding:0 !important;margin:0.4em !important;\">Markers</p> </div>\n", "\n", "<div style=\"text-align:center;width:100%\">\n", "  <div style=\"display: inline-block;\">\n", "    <div style=\"float:left;margin:0.1em;\">\n", "      <a href=\"https://pypi.python.org/pypi/pymaps\"><img src=\"https://img.shields.io/pypi/v/pymaps.svg\"></a>\n", "    </div>\n", "    <div style=\"float:left;margin:0.1em;\">\n", "      <a href=\"https://pypi.python.org/pypi/pymaps\"><img src=\"https://img.shields.io/pypi/pyversions/pymaps.svg\">\n", "      </a>\n", "    </div>\n", "    <div style=\"float:left;margin:0.1em;\">\n", "        <a href=\"\"><img src=\"https://img.shields.io/pypi/l/pymaps.svg\"></a>\n", "    </div>\n", "    <div style=\"float:left;margin:0.1em;\">\n", "      <a href=\"https://travis-ci.org/rafpyprog/pymaps\">\n", "          <img src=\"https://img.shields.io/travis/rafpyprog/pymaps.svg\">\n", "      </a>\n", "    </div>\n", "  </div>\n", "</div>\n"]
  },
  {
   "cell_type": "code",
   "execution_count": null,
   "metadata": {
    "hideCode": false,
    "hidePrompt": false
   },
   "outputs": [],
   "source": [
    "import os\n",
    "\n",
    "import pandas as pd\n",
    "from pymaps import Map\n",
    "from pymaps.marker import Marker, MarkerCluster"
   ]
  },
  {
   "cell_type": "code",
   "execution_count": null,
   "metadata": {
    "hideCode": false,
    "hidePrompt": false
   },
   "outputs": [],
   "source": [
    "API_KEY = os.environ['MAPS_API_KEY']"
   ]
  },
  {
   "cell_type": "code",
   "execution_count": null,
   "metadata": {
    "hideCode": false,
    "hidePrompt": false
   },
   "outputs": [],
   "source": [
    "cities = {\"rome\": (41.9028, 12.4964),           \n",
    "          'paris' : (48.8566, 2.3522),\n",
    "          'madrid' : (40.4168, -3.7038),\n",
    "          'berlin' : (52.5200, 13.4050),          \n",
    "          'amsterdan' : (52.3702, 4.8952),\n",
    "          'london' : (51.509865,  -0.118092)}"
   ]
  },
  {
   "cell_type": "markdown",
   "metadata": {},
   "source": [
    "<a id=\"builtin\"></a>\n",
    "<h1 class=\"title1\">Simple Marker</h1>"
   ]
  },
  {
   "cell_type": "code",
   "execution_count": null,
   "metadata": {
    "hideCode": false,
    "hidePrompt": false
   },
   "outputs": [],
   "source": [
    "map = Map([-18.99, -44.04], api_key=API_KEY, zoom_start=6, show_pegman=False, disable_default_ui=True)\n",
    "\n",
    "for n, values  in enumerate(cities.items(), 1):    \n",
    "    city_name, latlgn = values\n",
    "    title = city_name.title() \n",
    "    Marker(latlgn, title=title, label=n).add_to(map)\n",
    "map.fit_bounds(cities.values())\n",
    "map"
   ]
  },
  {
   "cell_type": "code",
   "execution_count": null,
   "metadata": {},
   "outputs": [],
   "source": [
    "for marker in map.children['marker']:\n",
    "    if marker.title == 'London':\n",
    "        marker.set_animation('BOUNCE')\n",
    "        marker.label = ''\n",
    "map"
   ]
  },
  {
   "cell_type": "code",
   "execution_count": null,
   "metadata": {
    "hideCode": false,
    "hidePrompt": false,
    "scrolled": false
   },
   "outputs": [],
   "source": [
    "gb_icon = 'https://www.workaway.info/gfx/flags/flag_great_britain.png'\n",
    "         \n",
    "for marker in map.children['marker']:\n",
    "    if marker.title == 'London':\n",
    "        marker.icon = gb_icon\n",
    "        marker.set_animation('BOUNCE')\n",
    "        marker.label = ''\n",
    "    else:\n",
    "        marker.set_animation('DROP')\n",
    "    \n",
    "\n",
    "map.set_style('water')\n",
    "map"
   ]
  },
  {
   "cell_type": "code",
   "execution_count": null,
   "metadata": {
    "scrolled": false
   },
   "outputs": [],
   "source": [
    "map.children['marker'][-1].remove_animation()\n",
    "map.title = 'Eurotrip 2018'\n",
    "map"
   ]
  },
  {
   "cell_type": "markdown",
   "metadata": {},
   "source": [
    "# MarkerCluster"
   ]
  },
  {
   "cell_type": "code",
   "execution_count": null,
   "metadata": {},
   "outputs": [],
   "source": [
    "cities['buenos_aires'] = (-34.6037, -58.3816)\n",
    "cities['brasilia'] = (-15.7942, -47.8822)\n",
    "cities['santiago'] = (-33.4489, -70.6693)"
   ]
  },
  {
   "cell_type": "code",
   "execution_count": null,
   "metadata": {},
   "outputs": [],
   "source": [
    "map = Map(api_key=API_KEY, zoom_start=6, show_pegman=False, disable_default_ui=True)\n",
    "cluster = MarkerCluster()\n",
    "for n, values  in enumerate(cities.items(), 1):    \n",
    "    city_name, latlgn = values\n",
    "    title = city_name.title() \n",
    "    Marker(latlgn, title=title, label=n).add_to(cluster)\n",
    "cluster.add_to(map)\n",
    "map"
   ]
  }
 ],
 "metadata": {
  "hide_code_all_hidden": false,
  "kernelspec": {
   "display_name": "Python 3",
   "language": "python",
   "name": "python3"
  },
  "language_info": {
   "codemirror_mode": {
    "name": "ipython",
    "version": 3
   },
   "file_extension": ".py",
   "mimetype": "text/x-python",
   "name": "python",
   "nbconvert_exporter": "python",
   "pygments_lexer": "ipython3",
   "version": "3.6.3"
  }
 },
 "nbformat": 4,
 "nbformat_minor": 2
}
