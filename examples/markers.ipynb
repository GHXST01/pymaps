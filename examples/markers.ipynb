{
 "cells": [
  {
   "cell_type": "markdown",
   "metadata": {
    "deletable": true,
    "editable": true
   },
   "source": [
    "<div>\n",
    "<img src=\"https://raw.githubusercontent.com/rafpyprog/pymaps/master/images/pymaps-logo-36x36.png\"  style=\"margin:auto !important;text-align:center;\"/>\n",
    "<strong><p style=\"margin:auto !important;text-align:center !important;padding:10px 10px 0px 10px !important;font-size:36px !important;\">PyMaps</p></strong>\n",
    "<p style=\"font-size:24px;text-align:center;color:#e74a49;padding:0 !important;margin:10px !important;\">Markers</p>\n",
    "</div>"
   ]
  },
  {
   "cell_type": "code",
   "execution_count": 1,
   "metadata": {
    "collapsed": true,
    "deletable": true,
    "editable": true
   },
   "outputs": [],
   "source": [
    "import pandas as pd\n",
    "from pymaps.pymaps import Map\n",
    "from pymaps.marker import Marker"
   ]
  },
  {
   "cell_type": "code",
   "execution_count": 2,
   "metadata": {
    "collapsed": false,
    "deletable": true,
    "editable": true
   },
   "outputs": [],
   "source": [
    "api_key = open('api_key.txt').read().strip()"
   ]
  },
  {
   "cell_type": "code",
   "execution_count": 3,
   "metadata": {
    "collapsed": true
   },
   "outputs": [],
   "source": [
    "cities = {'rome': (41.9028, 12.4964), \n",
    "          'brasilia': (10.79, -66),\n",
    "          'paris' : (48.8566, 2.3522),\n",
    "          'madrid' : (40.4168, -3.7038),\n",
    "          \"berlin\" : (52.5200, 13.4050),          \n",
    "          'amsterdan' : (52.3702, 4.8952),\n",
    "          'london' : (51.5074, 0.1278)}"
   ]
  },
  {
   "cell_type": "code",
   "execution_count": 4,
   "metadata": {
    "collapsed": false,
    "deletable": true,
    "editable": true
   },
   "outputs": [],
   "source": [
    "map = Map([-18.99, -44.04], api_key=api_key, zoom_start=6, width='100%', height='100%')\n",
    "map.fit_bounds(cities.values())"
   ]
  },
  {
   "cell_type": "code",
   "execution_count": 5,
   "metadata": {
    "collapsed": false
   },
   "outputs": [
    {
     "data": {
      "text/html": [
       "<iframe src=\"data:text/html;charset=utf-8;base64,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\" style=\"height:100%;width:100%;border:none !important\"></iframe>"
      ],
      "text/plain": [
       "<pymaps.pymaps.Map at 0x18e1f03e128>"
      ]
     },
     "execution_count": 5,
     "metadata": {},
     "output_type": "execute_result"
    }
   ],
   "source": [
    "map"
   ]
  },
  {
   "cell_type": "code",
   "execution_count": 6,
   "metadata": {
    "collapsed": false,
    "deletable": true,
    "editable": true
   },
   "outputs": [],
   "source": [
    "with open('map.html', 'w') as f:\n",
    "    f.write(map.html)"
   ]
  },
  {
   "cell_type": "code",
   "execution_count": null,
   "metadata": {
    "collapsed": false,
    "deletable": true,
    "editable": true
   },
   "outputs": [],
   "source": [
    "map = Map([-18.99, -44.04], api_key=api_key, zoom_start=6, show_pegman=False, show_zoom_control=False,\n",
    "          disable_default_ui=True)\n",
    "\n",
    "for n, i in enumerate(points):\n",
    "    icon = 'https://www.bbq-brethren.com/forum/images/blue.gif'\n",
    "    #title = brazilian_cities.loc[n]['Nome do Município']\n",
    "    title = 'Alan'\n",
    "    Marker(i, icon=icon, title=title).add_to(map)\n",
    "map"
   ]
  },
  {
   "cell_type": "code",
   "execution_count": null,
   "metadata": {
    "collapsed": false,
    "deletable": true,
    "editable": true,
    "scrolled": false
   },
   "outputs": [],
   "source": [
    "map = Map([-18.99, -44.04], api_key=api_key, zoom_start=6, show_pegman=False, show_zoom_control=False,\n",
    "          disable_default_ui=True)\n",
    "\n",
    "for n, i in enumerate(points):    \n",
    "    icon = 'https://www.bbq-brethren.com/forum/images/blue.gif'\n",
    "    title = brazilian_cities.loc[n]['Nome do Município']\n",
    "    animation = None\n",
    "    if title == 'Brome = (41.9028, 12.4964)elo Horizonte':\n",
    "        animation = 'BOUNCE'\n",
    "        icon = 'https://www.connectsavannah.com/images/ratings/one-star-small.gif'\n",
    "    Marker(i, icon=icon, title=title, animation=animation).add_to(map)\n",
    "map"
   ]
  },
  {
   "cell_type": "code",
   "execution_count": null,
   "metadata": {
    "collapsed": false,
    "deletable": true,
    "editable": true
   },
   "outputs": [],
   "source": [
    "map.set_style('dark')\n",
    "map"
   ]
  },
  {
   "cell_type": "code",
   "execution_count": null,
   "metadata": {
    "collapsed": true
   },
   "outputs": [],
   "source": [
    "with open('map.html', 'w') as f:\n",
    "    f.write(map.html)"
   ]
  }
 ],
 "metadata": {
  "kernelspec": {
   "display_name": "Python 3",
   "language": "python",
   "name": "python3"
  },
  "language_info": {
   "codemirror_mode": {
    "name": "ipython",
    "version": 3
   },
   "file_extension": ".py",
   "mimetype": "text/x-python",
   "name": "python",
   "nbconvert_exporter": "python",
   "pygments_lexer": "ipython3",
   "version": "3.6.2"
  }
 },
 "nbformat": 4,
 "nbformat_minor": 2
}
