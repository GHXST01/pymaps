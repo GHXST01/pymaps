{
 "cells": [
  {
   "cell_type": "code",
   "execution_count": 1,
   "metadata": {},
   "outputs": [],
   "source": [
    "import pandas as pd\n",
    "import pygmaps\n",
    "import base64"
   ]
  },
  {
   "cell_type": "code",
   "execution_count": 2,
   "metadata": {},
   "outputs": [],
   "source": [
    "API_KEY = open('api_key.txt').read()"
   ]
  },
  {
   "cell_type": "code",
   "execution_count": 3,
   "metadata": {
    "scrolled": false
   },
   "outputs": [
    {
     "ename": "AttributeError",
     "evalue": "module 'pygmaps' has no attribute 'Map'",
     "output_type": "error",
     "traceback": [
      "\u001b[0;31m---------------------------------------------------------------------------\u001b[0m",
      "\u001b[0;31mAttributeError\u001b[0m                            Traceback (most recent call last)",
      "\u001b[0;32m<ipython-input-3-d14105b589b7>\u001b[0m in \u001b[0;36m<module>\u001b[0;34m()\u001b[0m\n\u001b[0;32m----> 1\u001b[0;31m map = pygmaps.Map(location=[-15.79, -47.88], api_key=API_KEY, zoom_start=12, show_pegman=False,\n\u001b[0m\u001b[1;32m      2\u001b[0m                   show_zoom_control=True, height='500px', style='redberry')\n\u001b[1;32m      3\u001b[0m \u001b[0mmap\u001b[0m\u001b[0;34m\u001b[0m\u001b[0m\n",
      "\u001b[0;31mAttributeError\u001b[0m: module 'pygmaps' has no attribute 'Map'"
     ]
    }
   ],
   "source": [
    "map = pygmaps.Map(location=[-15.79, -47.88], api_key=API_KEY, zoom_start=12, show_pegman=False,\n",
    "                  show_zoom_control=True, height='500px', style='redberry')\n",
    "map"
   ]
  },
  {
   "cell_type": "code",
   "execution_count": null,
   "metadata": {},
   "outputs": [],
   "source": [
    "map.html.splitlines()"
   ]
  },
  {
   "cell_type": "code",
   "execution_count": null,
   "metadata": {
    "scrolled": true
   },
   "outputs": [],
   "source": [
    "dadosbr = 'https://raw.githubusercontent.com/kelvins/Municipios-Brasileiros/master/Municipios_Brasileiros.csv'\n",
    "df = pd.read_csv(dadosbr, sep=';')\n",
    "df.head()"
   ]
  },
  {
   "cell_type": "code",
   "execution_count": null,
   "metadata": {
    "scrolled": false
   },
   "outputs": [],
   "source": [
    "import time\n",
    "from IPython.display import clear_output\n",
    "\n",
    "icongreen = 'https://bitcoin-obmen.com/i/green-circle.png'\n",
    "iconred = 'https://eshop.eca.ir/img/redcircle.png.pagespeed.ce.GbuWBUNpkq.png'\n",
    "icon = iconred\n",
    "for UF in df.UF.unique():\n",
    "    data = df.query('UF == @UF').reset_index(drop=True).head(50)\n",
    "\n",
    "    m = pygmaps.Map(API_KEY, markers = data[['Latitude', 'Longitude']],                \n",
    "                    labels=data['Nome do Município'], icon=icon, zoom=6, height='400px', width='50%',\n",
    "                    title=f'Municípios de {UF}', show_pegman=False, show_zoomcontrol=False)\n",
    "    \n",
    "    display(HTML(m.html), display_id=True)    \n",
    "    time.sleep(2)\n",
    "    clear_output()"
   ]
  }
 ],
 "metadata": {
  "kernelspec": {
   "display_name": "Python 3",
   "language": "python",
   "name": "python3"
  },
  "language_info": {
   "codemirror_mode": {
    "name": "ipython",
    "version": 3
   },
   "file_extension": ".py",
   "mimetype": "text/x-python",
   "name": "python",
   "nbconvert_exporter": "python",
   "pygments_lexer": "ipython3",
   "version": "3.6.3"
  }
 },
 "nbformat": 4,
 "nbformat_minor": 2
}
